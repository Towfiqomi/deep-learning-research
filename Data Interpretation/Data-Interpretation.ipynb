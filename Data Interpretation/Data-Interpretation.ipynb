{
 "cells": [
  {
   "cell_type": "markdown",
   "metadata": {
    "deletable": true,
    "editable": true
   },
   "source": [
    "# Python কি?\n",
    "ভুল কোন লিঙ্কে ক্লিক করে এখানে চলে এসেছেন। দয়া করে কেটে পরুন ... :/"
   ]
  },
  {
   "cell_type": "markdown",
   "metadata": {
    "deletable": true,
    "editable": true
   },
   "source": [
    "# jupyter notebook কি?\n",
    "একটি ওপেন সোর্স ওয়েব অ্যাপ্লিকেশন যার মাধ্যমে লাইভ কোড (ইনস্ট্যান্ট রানেবল), কমেন্ট, ভিজুয়ালাইজেশন, ফর্মুলা ইত্যাদি মিশিয়ে ইন্ট্যারেক্টিভ ডকুমেন্ট তৈরি, শেয়ার এবং রান করা যায়। এই পুরো ডকুমেন্টটাই একটা jupyter notebook যার ফাইল এক্সটেনশন .ipynb  \n",
    "অর্থাৎ, আমি এখানে বর্ণনা লিখেছি মার্কডাউন ফরম্যাটে, সাথে লাইভ পাইথন কোড লিখেছি, তার মধ্যে ডাইনামিক ভিজুয়াল গ্রাফ এম্বেড করেছি এমনি MathJax ফরম্যাটে সূত্রও লিখেছি। এই ডকুমেন্ট তথা ফাইলটি অন্য কাউকে আমি শেয়ার করলে সে পুরোটা ধাপে ধাপে পড়ে বুঝতে পারবে। আর যদি তার jupyter notebook ইন্সটল করা থাকে তাহলে সেখানে এই ফাইলকে ইম্পোরট করে কোড গুলো আপডেট ও রান করে দেখতে পারে।   \n",
    "\n",
    "এখনো না বুঝে থাকলে আর নিচে পড়ার দরকার নাই। আগে ঘুরে আসতে হবে [এখানে](http://jupyter.org/) "
   ]
  },
  {
   "cell_type": "markdown",
   "metadata": {
    "deletable": true,
    "editable": true
   },
   "source": [
    "# numpy কি?\n",
    "পাইথনে সায়েন্টিফিক কম্পিউটিং এর জন্য অতি প্রয়োজনীয় একটি লাইব্রেরী। অনেকে একে সাধারণ ভাবে ক্যালকুলেশন লাইব্রেরী বা ম্যাট্রিক্স লাইব্রেরীও বলে থাকে। লিনিয়ার অ্যালেজেব্রা, ফুরিয়ার ট্রান্সফর্ম, রেন্ডোম নাম্বার জেনারেশন এর সুবিধা সহ N-dimesional Array অবজেক্ট সাপোর্ট আছে। এতে করে অনেক জটিল ক্যালকুলেশন কম কোড লিখেই করা যায়। "
   ]
  },
  {
   "cell_type": "code",
   "execution_count": 1,
   "metadata": {
    "collapsed": false,
    "deletable": true,
    "editable": true
   },
   "outputs": [
    {
     "data": {
      "text/plain": [
       "array([2, 3, 4])"
      ]
     },
     "execution_count": 1,
     "metadata": {},
     "output_type": "execute_result"
    }
   ],
   "source": [
    "import numpy as np\n",
    "a = np.array([2,3,4])\n",
    "a"
   ]
  },
  {
   "cell_type": "markdown",
   "metadata": {
    "deletable": true,
    "editable": true
   },
   "source": [
    "আরও একটি উদাহরণ যেখানে 15 টি এলিমেন্ট তৈরি করে সেগুলোকে 3x5 (রোxকলাম) স্ট্রাকচারে কনভার্ট করা হয়েছে ম্যাট্রিক্স এর মত করে পরবর্তীতে ব্যবহার করার জন্য। "
   ]
  },
  {
   "cell_type": "code",
   "execution_count": 2,
   "metadata": {
    "collapsed": false,
    "deletable": true,
    "editable": true
   },
   "outputs": [
    {
     "data": {
      "text/plain": [
       "array([[ 0,  1,  2,  3,  4],\n",
       "       [ 5,  6,  7,  8,  9],\n",
       "       [10, 11, 12, 13, 14]])"
      ]
     },
     "execution_count": 2,
     "metadata": {},
     "output_type": "execute_result"
    }
   ],
   "source": [
    "a = np.arange(15).reshape(3, 5)\n",
    "a"
   ]
  },
  {
   "cell_type": "markdown",
   "metadata": {
    "deletable": true,
    "editable": true
   },
   "source": [
    "উপরের অ্যারে-র চেহারা চেক করা যেতে পারে নিচের মত করে,"
   ]
  },
  {
   "cell_type": "code",
   "execution_count": 3,
   "metadata": {
    "collapsed": false,
    "deletable": true,
    "editable": true
   },
   "outputs": [
    {
     "data": {
      "text/plain": [
       "(3, 5)"
      ]
     },
     "execution_count": 3,
     "metadata": {},
     "output_type": "execute_result"
    }
   ],
   "source": [
    "a.shape"
   ]
  },
  {
   "cell_type": "markdown",
   "metadata": {
    "deletable": true,
    "editable": true
   },
   "source": [
    "পাইথনের ডিফল্ট ডাটা স্ট্রাকচার গুলো দিয়ে যে কাজ গুলো করা প্রায় অসম্ভব এবং সময় সাপেক্ষ সেগুলোর জন্য এই লাইব্রেরী বিশাল এক সমাধান। "
   ]
  },
  {
   "cell_type": "markdown",
   "metadata": {
    "deletable": true,
    "editable": true
   },
   "source": [
    "# matplotlib কি?\n",
    "matplotlib এর মাধ্যমে প্রায় সব রকম গ্রাফিক্যাল প্লটিং করা যায়। নিচে এর একটি সহজ ব্যবহার দেখানো হয়েছে। "
   ]
  },
  {
   "cell_type": "code",
   "execution_count": 4,
   "metadata": {
    "collapsed": false,
    "deletable": true,
    "editable": true
   },
   "outputs": [
    {
     "data": {
      "image/png": "[encoded data removed]",
      "text/plain": [
       "<matplotlib.figure.Figure at 0x105e31a20>"
      ]
     },
     "metadata": {},
     "output_type": "display_data"
    }
   ],
   "source": [
    "%matplotlib inline\n",
    "from matplotlib import pyplot as plt\n",
    "\n",
    "x = np.array(range(10))\n",
    "y = np.array(range(10))\n",
    "\n",
    "plt.plot(x, y)\n",
    "plt.show()"
   ]
  },
  {
   "cell_type": "markdown",
   "metadata": {
    "deletable": true,
    "editable": true
   },
   "source": [
    "# ডাটা কি?\n",
    "কালেকশন অফ ফ্যাক্টস যেমন নাম্বার, শব্দ, পরিমাণ, পর্যবেক্ষণ এমনকি কোন কিছুর বর্ণনা। দুরকম ডাটা আছে - কোয়ালিটেটিভ ও কোয়ান্টিটেটিভ। আমার অনেক টাকা আছে, ওর চুল অনেক লম্বা; এসব কোয়ালিটেটিভ ডাটার উদাহরণ। দ্বিতীয় প্রকারের ডাটা আবার দু রকম হয় - ডিসক্রিট এবং কন্টিনিউয়াস। আমার দুটো পা, তার কাছে ১০০ টাকা আছে এগুলো ডিসক্রিট এবং সে ৫৬৫ মিলিমিটার লম্বা, আজ ২৩ মিমি বৃষ্টি হয়েছে এসব কন্টিনিউয়াস ডাটার উদাহরণ। "
   ]
  },
  {
   "cell_type": "markdown",
   "metadata": {
    "deletable": true,
    "editable": true
   },
   "source": [
    "# Census এবং Sample\n",
    "যখন একটা ডাটার কালেকশন বা গ্রুপ থেকে সব গুলো এলিমেন্ট নেয়া হয় তখন সেটা Census. আর ওই গ্রুপ থেকে কিছু ডাটা বেছে নিলে সেটা হচ্ছে Sample."
   ]
  },
  {
   "cell_type": "markdown",
   "metadata": {
    "deletable": true,
    "editable": true
   },
   "source": [
    "# mean, median, mode\n",
    "**mean** কে অনেকেই গড় নামেই চিনে থাকবেন। খুব সহজ - যতগুলো এলিমেন্ট নিয়ে কাজ করা হচ্ছে সেগুলোর যোগফলকে মোট এলিমেন্ট সংখ্যা দিয়ে ভাগ করলেই গড় পাওয়া যায়।"
   ]
  },
  {
   "cell_type": "code",
   "execution_count": 5,
   "metadata": {
    "collapsed": false,
    "deletable": true,
    "editable": true
   },
   "outputs": [
    {
     "data": {
      "text/plain": [
       "7.5"
      ]
     },
     "execution_count": 5,
     "metadata": {},
     "output_type": "execute_result"
    }
   ],
   "source": [
    "a = np.array([10, 5, 12, 3])\n",
    "np.mean(a)"
   ]
  },
  {
   "cell_type": "markdown",
   "metadata": {
    "deletable": true,
    "editable": true
   },
   "source": [
    "অর্থাৎ, $\\frac{10+5+12+3}{4} = 7.5$"
   ]
  },
  {
   "cell_type": "code",
   "execution_count": 6,
   "metadata": {
    "collapsed": false,
    "deletable": true,
    "editable": true
   },
   "outputs": [
    {
     "data": {
      "text/plain": [
       "array([ 1.5,  3.5])"
      ]
     },
     "execution_count": 6,
     "metadata": {},
     "output_type": "execute_result"
    }
   ],
   "source": [
    "a = np.array([[1, 2], [3, 4]])\n",
    "np.mean(a, axis=1)"
   ]
  },
  {
   "cell_type": "markdown",
   "metadata": {
    "deletable": true,
    "editable": true
   },
   "source": [
    "অর্থাৎ, প্রথমে 1 ও 2 এর গড় এবং তারপর 3 ও 4 এর গড় করে আরেকটা অ্যারে তে জমা করা হয়েছে। numpy ব্যবহার না করলে এখানে লুপ, যোগ, ভাগ সহ বেশ কিছু কোড লিখতে হত। \n"
   ]
  },
  {
   "cell_type": "markdown",
   "metadata": {
    "deletable": true,
    "editable": true
   },
   "source": [
    "**median** বা মধ্যক হচ্ছে কিছু ক্রমানুসারে সাজানো এলিমেণ্টের মাঝখানের ভ্যালুটি অথবা মাঝখানে একাধিক ভ্যালু হলে তাদের সাধারণ গড় মানটি"
   ]
  },
  {
   "cell_type": "code",
   "execution_count": 7,
   "metadata": {
    "collapsed": false,
    "deletable": true,
    "editable": true
   },
   "outputs": [
    {
     "data": {
      "text/plain": [
       "10.0"
      ]
     },
     "execution_count": 7,
     "metadata": {},
     "output_type": "execute_result"
    }
   ],
   "source": [
    "a = np.array([10, 14, 4, 7, 9, 12, 15])\n",
    "np.median(a)              # 4, 7, 9, 10, 12, 14, 15. এখানে 10 median"
   ]
  },
  {
   "cell_type": "markdown",
   "metadata": {
    "deletable": true,
    "editable": true
   },
   "source": [
    "উপরের অ্যারের mean -ও বের করে দেখি,"
   ]
  },
  {
   "cell_type": "code",
   "execution_count": 8,
   "metadata": {
    "collapsed": false,
    "deletable": true,
    "editable": true
   },
   "outputs": [
    {
     "data": {
      "text/plain": [
       "10.142857142857142"
      ]
     },
     "execution_count": 8,
     "metadata": {},
     "output_type": "execute_result"
    }
   ],
   "source": [
    "a = np.array([10, 14, 4, 7, 9, 12, 15])\n",
    "np.mean(a)"
   ]
  },
  {
   "cell_type": "markdown",
   "metadata": {
    "deletable": true,
    "editable": true
   },
   "source": [
    "**mode** বা প্রচুরক হচ্ছে কোন ডাটা কালেকশনে যে এলিমেন্টটি সবচেয়ে বেশি সংখ্যক বার থাকে সেটা"
   ]
  },
  {
   "cell_type": "code",
   "execution_count": 9,
   "metadata": {
    "collapsed": false,
    "deletable": true,
    "editable": true
   },
   "outputs": [
    {
     "data": {
      "text/plain": [
       "ModeResult(mode=array([4]), count=array([2]))"
      ]
     },
     "execution_count": 9,
     "metadata": {},
     "output_type": "execute_result"
    }
   ],
   "source": [
    "from scipy import stats # এটি আরেকটি প্রয়োজনীয় লাইব্রেরী\n",
    "a = np.array([10, 14, 4, 7, 9, 12, 4, 15]) # 4 এর উপস্থিতি বেশি\n",
    "stats.mode(a)"
   ]
  },
  {
   "cell_type": "markdown",
   "metadata": {
    "deletable": true,
    "editable": true
   },
   "source": [
    "# mean থাকতে আবার median কেন?  \n",
    "মাঝে মাঝে কোন একটা ডাটা সেটের mean তার সঠিক/বাস্তবিক গড় প্রকাশ করে না। যেমন - নিচে কিছু লোকের বয়সের একটা অ্যারে আছে এবং এর mean এসেছে 33.84. এটা যথেষ্ট লজিক্যাল একটা ভিউ দিচ্ছে ডাটা সেট সম্পর্কে।"
   ]
  },
  {
   "cell_type": "code",
   "execution_count": 10,
   "metadata": {
    "collapsed": false,
    "deletable": true,
    "editable": true
   },
   "outputs": [
    {
     "data": {
      "text/plain": [
       "33.846153846153847"
      ]
     },
     "execution_count": 10,
     "metadata": {},
     "output_type": "execute_result"
    }
   ],
   "source": [
    "ages = np.array([30, 30, 30, 20, 20, 45, 35, 35, 30, 40, 40, 40, 45])\n",
    "np.mean(ages)"
   ]
  },
  {
   "cell_type": "markdown",
   "metadata": {
    "deletable": true,
    "editable": true
   },
   "source": [
    "কিন্তু ধরা যাক, সেই ডাটা সেটের মধ্যে একজন মাত্র অতিবৃদ্ধ লোকের বয়স যুক্ত করা হল যার বয়স 120 বছর। এতে করেই এই ডাটা সেটের mean বেড়ে গিয়ে হয়ে গেলো 40 যা একদমই এই সেটের বাস্তবিক গ্রহণযোগ্য ভিউকে রীতিমত বদলে ফেলেছে। "
   ]
  },
  {
   "cell_type": "code",
   "execution_count": 11,
   "metadata": {
    "collapsed": false,
    "deletable": true,
    "editable": true
   },
   "outputs": [
    {
     "data": {
      "text/plain": [
       "40.0"
      ]
     },
     "execution_count": 11,
     "metadata": {},
     "output_type": "execute_result"
    }
   ],
   "source": [
    "ages = np.array([30, 30, 30, 20, 20, 45, 35, 35, 30, 40, 40, 40, 45, 120])\n",
    "np.mean(ages)"
   ]
  },
  {
   "cell_type": "markdown",
   "metadata": {
    "deletable": true,
    "editable": true
   },
   "source": [
    "আবার এই অবস্থাতেও উক্ত সেটের median আসছে 35 অর্থাৎ একটা অসঙ্গতি পূর্ণ ডাটা এলিমেন্ট যুক্ত হবার পরেও median  দিয়ে গড়ের একটা সঠিক ওভারভিউ পাওয়া যাচ্ছে। এরকম ক্ষেত্রে median উপকারী। "
   ]
  },
  {
   "cell_type": "code",
   "execution_count": 12,
   "metadata": {
    "collapsed": false,
    "deletable": true,
    "editable": true
   },
   "outputs": [
    {
     "data": {
      "text/plain": [
       "35.0"
      ]
     },
     "execution_count": 12,
     "metadata": {},
     "output_type": "execute_result"
    }
   ],
   "source": [
    "ages = np.array([30, 30, 30, 20, 20, 45, 35, 35, 30, 40, 40, 40, 45, 120])\n",
    "np.median(ages)"
   ]
  },
  {
   "cell_type": "markdown",
   "metadata": {
    "collapsed": true,
    "deletable": true,
    "editable": true
   },
   "source": [
    "# Normal Distribution কি\n",
    "যখন আমরা কোন রিয়েল লাইফ ডাটা কালেকশনকে রিপ্রেসেন্ট/ডিস্ট্রিবিউট (স্প্রেড আউট) করি তখন সেটার চেহারা বিভিন্ন রকম হতে পারে। যেমন নিচের ডাটাসেটের হিস্টোগ্রাম শো করলে দেখা যাচ্ছে বাম দিকে লম্বা বার বেশি,"
   ]
  },
  {
   "cell_type": "code",
   "execution_count": 13,
   "metadata": {
    "collapsed": false,
    "deletable": true,
    "editable": true
   },
   "outputs": [
    {
     "data": {
      "image/png": "[encoded data removed]",
      "text/plain": [
       "<matplotlib.figure.Figure at 0x107e74a20>"
      ]
     },
     "metadata": {},
     "output_type": "display_data"
    }
   ],
   "source": [
    "x = np.array([20, 30, 30, 30, 20, 20, 50, 20, 20, 30, 40, 40, 40,  50, 60, 60, 90])\n",
    "\n",
    "plt.hist(x, 15)\n",
    "plt.show()"
   ]
  },
  {
   "cell_type": "markdown",
   "metadata": {
    "deletable": true,
    "editable": true
   },
   "source": [
    "অথবা কিছু ডাটার হিস্টোগ্রাম বার গুলো হতে পারে নিচের মত অগোছালো,"
   ]
  },
  {
   "cell_type": "code",
   "execution_count": 14,
   "metadata": {
    "collapsed": false,
    "deletable": true,
    "editable": true,
    "scrolled": true
   },
   "outputs": [
    {
     "data": {
      "image/png": "[encoded data removed]",
      "text/plain": [
       "<matplotlib.figure.Figure at 0x108052e80>"
      ]
     },
     "metadata": {},
     "output_type": "display_data"
    }
   ],
   "source": [
    "x = np.array([40, 30, 80, 30, 20, 80, 50, 20, 20, 60, 40, 40, 40,  50, 60, 60, 90, 80, 70])\n",
    "\n",
    "plt.hist(x, 15)\n",
    "plt.show()"
   ]
  },
  {
   "cell_type": "markdown",
   "metadata": {
    "deletable": true,
    "editable": true
   },
   "source": [
    "কিন্তু অনেক সময় বাস্তবের কিছু ডাটাকে (কিছু ছাত্রের উচ্চতার মান, তাদের পরীক্ষায় প্রাপ্ত নম্বর, একটি মেশিন দারা তৈরি কোন প্রোডাক্টের সাইজ, জনগণের আয় ইত্যাদি) ডিস্ট্রিবিউট করলে নিচের মত চেহারা পাওয়া যায়,"
   ]
  },
  {
   "cell_type": "code",
   "execution_count": 15,
   "metadata": {
    "collapsed": false,
    "deletable": true,
    "editable": true
   },
   "outputs": [
    {
     "data": {
      "image/png": "[encoded data removed]",
      "text/plain": [
       "<matplotlib.figure.Figure at 0x1081979b0>"
      ]
     },
     "metadata": {},
     "output_type": "display_data"
    }
   ],
   "source": [
    "sizes = np.array([9, 8, 8, 9, 9, 1, 4, 5, 6, 7, 8, 9, 10, 10, 11, 11, 11, 11, 11, 13, 12, 12, 12, 12, 13, 13, 14, 14, 14, 15, 15, 15, 16, 17, 18, 20])\n",
    "\n",
    "plt.hist(sizes)\n",
    "plt.show()"
   ]
  },
  {
   "cell_type": "markdown",
   "metadata": {
    "deletable": true,
    "editable": true
   },
   "source": [
    "যেটা অনেকটা বেল (ঘণ্টি) কার্ভের মত অর্থাৎ মাঝখানের বার গুলো লম্বা এবং তার দুপাশের বার গুলো ক্রমান্বয়ে ছোট। এরকম কোন ডাটার ডিস্ট্রিবিউশনকে বলা হয় নরমালি ডিস্ট্রিবিউটেড। \n",
    "\n",
    "![bell](img/bell.png)\n",
    "\n",
    "সব ডাটা এমনি এমনি এমন চেহারা নাও পেতে পারে। সেক্ষেত্রে ডাটা গুলোর গড় বা মধ্যক বের করে সেটাকে মাঝখানে রেখে ওই মধ্যম মানের চেয়ে ছোট ও বড় মান গুলোকে যথাক্রমে বাম পাশে এবং ডানপাশে রেখে একটি ডিস্ট্রিবিউশন তৈরি করাকে নরমাল ডিস্ট্রিবিউশন বলা হয়।\n",
    "ডাটাকে এভাবে ডিস্ট্রিবিউট করলে পরবর্তীতে অনেক রকম হিসাব, পর্যবেক্ষণ বা সম্ভাব্যতা বের করা সহজ হয়ে যায়। \n",
    "\n",
    "নরমালি ডিস্ট্রিবিউটেড কোন ডাতাসেটের mean, median এবং mode মোটামুটি একই হয়। নিচে প্রমাণ করে দেখা যেতে পারে,"
   ]
  },
  {
   "cell_type": "code",
   "execution_count": 16,
   "metadata": {
    "collapsed": false,
    "deletable": true,
    "editable": true
   },
   "outputs": [
    {
     "data": {
      "text/plain": [
       "11.194444444444445"
      ]
     },
     "execution_count": 16,
     "metadata": {},
     "output_type": "execute_result"
    }
   ],
   "source": [
    "np.mean(sizes)"
   ]
  },
  {
   "cell_type": "code",
   "execution_count": 17,
   "metadata": {
    "collapsed": false,
    "deletable": true,
    "editable": true
   },
   "outputs": [
    {
     "data": {
      "text/plain": [
       "11.0"
      ]
     },
     "execution_count": 17,
     "metadata": {},
     "output_type": "execute_result"
    }
   ],
   "source": [
    "np.median(sizes)"
   ]
  },
  {
   "cell_type": "code",
   "execution_count": 18,
   "metadata": {
    "collapsed": false,
    "deletable": true,
    "editable": true
   },
   "outputs": [
    {
     "data": {
      "text/plain": [
       "ModeResult(mode=array([11]), count=array([5]))"
      ]
     },
     "execution_count": 18,
     "metadata": {},
     "output_type": "execute_result"
    }
   ],
   "source": [
    "stats.mode(sizes)"
   ]
  },
  {
   "cell_type": "markdown",
   "metadata": {
    "deletable": true,
    "editable": true
   },
   "source": [
    "# ভ্যারিয়েন্স ও স্ট্যান্ডার্ড ডেভিয়েশন\n",
    "আমরা আগেই বলেছি ডাটা ডিস্ট্রিবিউশন করাকে স্প্রেড আউট করা বা ছড়িয়ে দেয়াও বলা যায়। সেক্ষেত্রে আমরা জানতে পেরেছি যে নরমালি ডিস্ট্রিবিউটেড ডাটা বা ডাটাকে নরমালি ডিস্ট্রিবিউট করার অনেক সুবিধা আছে। তো, সেই নরমালি ডিস্ট্রিবিউট করার পর যদি পর্যবেক্ষণ করি যে- ডাটা গুলো গড় মান থেকে কতটা ছড়ানো বা এর থেকে কত দুরে অবস্থিত সেক্ষেত্রে যে ফ্যাক্টরটি সম্বদ্ধে জানতে হবে সেটি হচ্ছে উক্ত ডিস্ট্রিবিউশনের ভ্যারিয়েন্স। \n",
    "\n",
    "ভ্যারিয়েন্স হচ্ছে - উক্ত ডিস্ট্রিবিউশনের mean (গড়) মান থেকে প্রত্যেকটি এলিমেন্টের দূরত্বের বর্গের গড়। অর্থাৎ, উপরের sizes অ্যারের ভ্যারিয়েন্স বের করার জন্য আমরা নিচের ফর্মুলা ব্যবহার করতে পারি,\n",
    "\n",
    "\\begin{equation*}\n",
    "Variance, \\, \\sigma ^ 2 = \\frac{\\sum (x-\\mu) ^ 2}{N}\n",
    "\\end{equation*}   \n",
    "\n",
    "যেখানে $x$ হচ্ছে এলিমেন্ট এবং $\\mu$ হচ্ছে গড়। আর $N$ হচ্ছে মোট এলিমেন্ট সংখ্যা। \n",
    "\n",
    "\\begin{equation*}\n",
    "Variance = \\frac{(11.19-1)^2 + (11.19-4)^2 + (11.19-5)^2 + (11.19-6)^2 ...  (11.19-18)^2 + (11.19-20)^2}{36}\n",
    "\\end{equation*}  \n",
    "\n",
    "আর, স্ট্যান্ডার্ড ডেভিয়েশন হচ্ছে ভ্যারিয়েন্স এর বর্গমূল,\n",
    "\n",
    "$Standard \\, Deviation = \\sqrt{Variance}$\n",
    "\n",
    "নিজে নিজে ক্যালকুলেশনটা করে দেখতে পারেন। আমি numpy এর std ফাংশন ব্যবহার করে তাড়াতাড়ি জেনে নেই স্ট্যান্ডার্ড ডেভিয়েশন কত,"
   ]
  },
  {
   "cell_type": "code",
   "execution_count": 19,
   "metadata": {
    "collapsed": false,
    "deletable": true,
    "editable": true
   },
   "outputs": [
    {
     "data": {
      "text/plain": [
       "3.9144990061482714"
      ]
     },
     "execution_count": 19,
     "metadata": {},
     "output_type": "execute_result"
    }
   ],
   "source": [
    "np.std(sizes)"
   ]
  },
  {
   "cell_type": "markdown",
   "metadata": {
    "deletable": true,
    "editable": true
   },
   "source": [
    "# স্ট্যান্ডার্ড ডেভিয়েশন জানার উপকার    \n",
    "\n",
    "নরমালি ডিস্ট্রিবিউটেড ডাটার ক্ষেত্রে এর স্ট্যান্ডার্ড ডেভিয়েশন জানা হয়ে গেলে ওই ডাটা গুলো সম্পর্কে কিছু অনুসিদ্ধান্ত পাওয়া যায়। যেমন   \n",
    "\n",
    "* ৬৮% ডাটা গড় ভ্যালু তথা মধ্য লাইন থেকে দুই পাশে ১ একক পরিমাণ স্ট্যান্ডার্ড ডেভিয়েশনের মধ্যে থাকে\n",
    "* ৯৫% ডাটা গড় ভ্যালু তথা মধ্য লাইন থেকে দুই পাশে ২ একক পরিমাণ স্ট্যান্ডার্ড ডেভিয়েশনের মধ্যে থাকে\n",
    "* ৯৯% ডাটা গড় ভ্যালু তথা মধ্য লাইন থেকে দুই পাশে ৩ একক পরিমাণ স্ট্যান্ডার্ড ডেভিয়েশনের মধ্যে থাকে   \n",
    "\n",
    "অর্থাৎ, আমরা যদি উপরের sizes অ্যারে থেকে শতকরা ৯৫% ডাটা নিয়ে কাজ করতে চাই অথবা শতকরা ৯৫% ডাটাকে গ্রহণযোগ্য ডাটা মনে করে থাকি তাহলে কোন কোন ডাটা আমরা নেব এবং কোন গুলো ফেলে দেব সেটা খুব সহজেই জানতে পারি। অনুসিদ্ধান্ত থেকে আমরা জানি গড় মান থেকে ডান এবং বাম পাশে ২ একক পরিমাণ স্ট্যান্ডার্ড ডেভিয়েশনের মধ্যেই এই পরিমাণ ডাটা থাকার কথা।   \n"
   ]
  },
  {
   "cell_type": "markdown",
   "metadata": {
    "deletable": true,
    "editable": true
   },
   "source": [
    "**একে Probability Distribution ও বলা হয়ে থাকে**   "
   ]
  },
  {
   "cell_type": "markdown",
   "metadata": {
    "deletable": true,
    "editable": true
   },
   "source": [
    "![sd](img/sd.png)"
   ]
  },
  {
   "cell_type": "markdown",
   "metadata": {
    "deletable": true,
    "editable": true
   },
   "source": [
    "এখন গড় মান থেকে আমরা প্রত্যেকটি এলিমেন্ট এর দূরত্ব হিসাব করে দেখবো স্ট্যান্ডার্ড ডেভিয়েশন এককে। যেগুলো সামনে ও পেছনে ২ একক পরিমাণ স্ট্যান্ডার্ড ডেভিয়েশনের মধ্যে থাকবে শুধু সেগুলোকেই নেব। উদাহরণ সরূপ,   \n",
    "\n",
    "গড় 11.19   \n",
    "স্ট্যান্ডার্ড ডেভিয়েশন 3.91   \n",
    "অ্যারের প্রথম এলিমেন্ট 9   \n",
    "যেহেতু 9 গড় মানের বাম দিকে অবস্থান করে তাই গড় থেকে স্ট্যান্ডার্ড ডেভিয়েশন বিয়োগ করে এর অবস্থান চেক করে দেখবো,    \n",
    "গড় - ২ একক স্ট্যান্ডার্ড ডেভিয়েশন = 11.19 - (2 * 3.91) = 4.08   \n",
    "অর্থাৎ 9 এর অবস্থান ২ একক স্ট্যান্ডার্ড ডেভিয়েশন মধ্যেই আছে। এই এলিমেন্টকে আমরা গ্রহণ করবো  \n",
    "\n",
    "\n",
    "গড় 11.19  \n",
    "স্ট্যান্ডার্ড ডেভিয়েশন 3.91  \n",
    "অ্যারের আরেকটি এলিমেন্ট 16  \n",
    "যেহেতু 16 গড় মানের ডান দিকে অবস্থান করে তাই গড় থেকে স্ট্যান্ডার্ড ডেভিয়েশন যোগ করে এর অবস্থান চেক করে দেখবো,    \n",
    "গড় + ২ একক স্ট্যান্ডার্ড ডেভিয়েশন = 11.19 + (2 * 3.91) = 19.72   \n",
    "অর্থাৎ 16 এর অবস্থান ডান দিকে ২ একক স্ট্যান্ডার্ড ডেভিয়েশন মধ্যেই আছে। এই এলিমেন্টকেও আমরা গ্রহণ করবো    \n",
    "\n",
    "\n",
    "গড় 11.19   \n",
    "স্ট্যান্ডার্ড ডেভিয়েশন 3.91   \n",
    "অ্যারের আরেকটি এলিমেন্ট 1   \n",
    "যেহেতু 16 গড় মানের বাম দিকে অবস্থান করে তাই গড় থেকে স্ট্যান্ডার্ড ডেভিয়েশন বিয়োগ করে এর অবস্থান চেক করে দেখবো,    \n",
    "গড় - ২ একক স্ট্যান্ডার্ড ডেভিয়েশন = 11.19 - (2 * 3.91) = 4.08   \n",
    "অর্থাৎ 1 এর অবস্থান বাম দিকে ২ একক স্ট্যান্ডার্ড ডেভিয়েশনেরও বাইরে (বামে)। তাই এই এলিমেন্টকে আমরা গ্রহণ করবো না কারন এটা আমাদের পছন্দের শতকরা ৯৫ ভাগ স্বাভাবিক ডাটা-র মধ্যেও পরে না।    \n",
    "\n",
    "\n",
    "একই ভাবে 20 ও বাদ পরে যাবে কারন এটি বেল কার্ভের অতিরিক্ত ডান দিকে অবস্থান করছে। "
   ]
  },
  {
   "cell_type": "markdown",
   "metadata": {
    "deletable": true,
    "editable": true
   },
   "source": [
    "# স্ট্যান্ডার্ডাইজেশন এবং এর প্রয়োজনীয়তা   "
   ]
  },
  {
   "cell_type": "markdown",
   "metadata": {
    "deletable": true,
    "editable": true
   },
   "source": [
    "একটি এলিমেন্ট আলোচ্য নর্মাল ডিস্ট্রিবিউশনের গড় মান থেকে কত একক স্ট্যান্ডার্ড ডেভিয়েশন দূরত্বে অবস্থান করে সেই ভ্যালুকে উক্ত এলিমেন্টের স্ট্যান্ডার্ড স্কোর, সিগমা বা z-score বলে। এভাবে একটি ডাটাকে z-score এ কনভার্ট করাকেই স্ট্যান্ডার্ডাইজেশন বলে।   \n",
    "\n",
    "সূত্র, z-score = (যে ভ্যালুর স্ট্যান্ডার্ডাইজেশন করতে হবে - গড়)/ স্ট্যান্ডার্ড ডেভিয়েশন\n",
    "\n",
    "এটা করার ফলে বিশেষ কিছু সময়ে সুবিধা পাওয়া যায়। যেমন উদাহরণ সরূপ - একজন শিক্ষক ১১ জন ছাত্রের পরীক্ষা নিলেন ৬০ নম্বরের মধ্যে। পাশ মার্ক বলে দিলেন ৩০। কিন্তু পরীক্ষা এতোই কঠিন হল যে ১০ জন ছাত্রই ৩০ এর চেয়ে কম মার্ক পেল। এখন সবাইকে তো আর ফেইল করে দেয়া যায় না। তাই তিনি ঠিক করলেন মার্কস গুলোকে স্ট্যান্ডার্ডাইজ করবেন এবং যারা ১ একক স্ট্যান্ডার্ড ডেভিয়েশনের নিচে মার্ক পেয়েছে শুধু তাদেরকে ফেইল করে দিবেন। এতে করে তিনি শতকরা ৬৮% ভালো ছাত্র বেছে নিতে পারছেন।   "
   ]
  },
  {
   "cell_type": "markdown",
   "metadata": {
    "deletable": true,
    "editable": true
   },
   "source": [
    "mean বের করে ফেলি,"
   ]
  },
  {
   "cell_type": "code",
   "execution_count": 20,
   "metadata": {
    "collapsed": false,
    "deletable": true,
    "editable": true
   },
   "outputs": [
    {
     "data": {
      "text/plain": [
       "23.0"
      ]
     },
     "execution_count": 20,
     "metadata": {},
     "output_type": "execute_result"
    }
   ],
   "source": [
    "marks = np.array([20, 15, 26, 32, 18, 28, 35, 14, 26, 22, 17])\n",
    "np.mean(marks)"
   ]
  },
  {
   "cell_type": "markdown",
   "metadata": {
    "deletable": true,
    "editable": true
   },
   "source": [
    "স্ট্যান্ডার্ড ডেভিয়েশন"
   ]
  },
  {
   "cell_type": "code",
   "execution_count": 21,
   "metadata": {
    "collapsed": false,
    "deletable": true,
    "editable": true
   },
   "outputs": [
    {
     "data": {
      "text/plain": [
       "6.6332495807107996"
      ]
     },
     "execution_count": 21,
     "metadata": {},
     "output_type": "execute_result"
    }
   ],
   "source": [
    "np.std(marks)"
   ]
  },
  {
   "cell_type": "markdown",
   "metadata": {
    "deletable": true,
    "editable": true
   },
   "source": [
    "প্রথম ছাত্রের $z-score = \\frac{(20-23)}{6.6} = -0.45 $   \n",
    "\n",
    "অতএব, সূত্র অনুযায়ী উপরের মার্কস গুলোর স্ট্যান্ডার্ড স্কোর যথাক্রমে,   \n",
    "-0.45,\t-1.21(fail),\t0.45,\t1.36,\t-0.76,\t0.76,\t1.82,\t-1.36(fail),\t0.45,\t-0.15,\t-0.91  \n",
    "\n",
    "অর্থাৎ শুধুমাত্র 15 এবং 14 মার্ক পাওয়া ছাত্র দুজনকে ফেইল করে দিতে পারেন তিনি। "
   ]
  },
  {
   "cell_type": "markdown",
   "metadata": {
    "collapsed": true,
    "deletable": true,
    "editable": true
   },
   "source": [
    "# একটু বেশি ডাটা নিয়ে কাজ\n",
    "এখন পর্যন্ত আমরা ম্যানুয়ালি একদম অল্প কিছু ডাটা নিয়ে শুধুমাত্র ম্যাথেমিটিক্যাল টার্ম গুলো বোঝার চেষ্টা করেছি। এখন থেকে আমরা একটু বেশি সংখ্যক ডাটার উপর কাজ করবো যাতে করে ফ্যাক্টর গুলোর সঠিকটা আরও ভালভাবে যাচাই করা যায়। এ জন্য আমরা numpy এর রেন্ডমাইজেশন ফাংশন এর সাহায্য নিয়ে চাহিদা মোতাবেক বিভিন্ন ডাটাসেট বানিয়ে সেগুলোর উপর পরীক্ষা চালাবো। "
   ]
  },
  {
   "cell_type": "code",
   "execution_count": 22,
   "metadata": {
    "collapsed": false,
    "deletable": true,
    "editable": true
   },
   "outputs": [
    {
     "data": {
      "text/plain": [
       "27012.587884334778"
      ]
     },
     "execution_count": 22,
     "metadata": {},
     "output_type": "execute_result"
    }
   ],
   "source": [
    "incomes = np.random.normal(27000, 15000, 10000)\n",
    "np.mean(incomes)"
   ]
  },
  {
   "cell_type": "markdown",
   "metadata": {
    "deletable": true,
    "editable": true
   },
   "source": [
    "উপরে আমরা একটা নরমাল ডিস্ট্রিবিউশন তৈরি করেছি যার ডাটাসেট হচ্ছে কিছু লোকের মাসিক ইনকাম। এর সেন্টার মান ঠিক করে দিয়েছি 27000, স্ট্যান্ডার্ড ডেভিয়েশন বলে দিয়েছি 15000 এবং মোট 10000 -টি ডাটা পয়েন্ট তৈরি করতে বলেছি। এই রেন্ডোম ডাটা সেটের  mean তথা গড় মান বের করতে আমরা numpy এর mean ফাংশন কল করেছি এবং এর ভ্যালু এসেছে ঠিক 27000 এর মতই।   \n",
    "\n",
    "আর নিচে আমরা উক্ত ডাটা গুলোকে 50 টি সেগমেন্টে ভাগ করে একটা হিস্টোগ্রাম দেখার চেষ্টা করেছি। "
   ]
  },
  {
   "cell_type": "code",
   "execution_count": 23,
   "metadata": {
    "collapsed": false,
    "deletable": true,
    "editable": true,
    "scrolled": true
   },
   "outputs": [
    {
     "data": {
      "image/png": "[encoded data removed]",
      "text/plain": [
       "<matplotlib.figure.Figure at 0x106028208>"
      ]
     },
     "metadata": {},
     "output_type": "display_data"
    }
   ],
   "source": [
    "plt.hist(incomes, 50)\n",
    "plt.show()"
   ]
  },
  {
   "cell_type": "code",
   "execution_count": 24,
   "metadata": {
    "collapsed": false,
    "deletable": true,
    "editable": true
   },
   "outputs": [
    {
     "data": {
      "text/plain": [
       "26976.888137643109"
      ]
     },
     "execution_count": 24,
     "metadata": {},
     "output_type": "execute_result"
    }
   ],
   "source": [
    "np.median(incomes)"
   ]
  },
  {
   "cell_type": "markdown",
   "metadata": {
    "deletable": true,
    "editable": true
   },
   "source": [
    "অর্থাৎ আবারও প্রমাণ হয় যে - নরমালি ডিস্ট্রিবিউটেড ডাটার ক্ষেত্রে mean, median এবং mode মোটামুটি একই।"
   ]
  },
  {
   "cell_type": "markdown",
   "metadata": {
    "deletable": true,
    "editable": true
   },
   "source": [
    "**Outlier**  হচ্ছে এমন ভ্যালু যেটা আলোচ্য সাধারণ ভ্যালু থেকে যথেষ্ট দুরে বা বাইরে অবস্থান করে। অর্থাৎ উপরের ইনকাম এমাউন্ট গুলোর মধ্যে যদি এমন কোন লোকের ইনকাম যুক্ত করা যায় যার মাসিক আয় 1000000000 তাহলে এটাকে আউটলায়ার বলা হয় এবং এটা অবাঞ্ছিতভাবে mean ভ্যালু বদলে দেয়।  "
   ]
  },
  {
   "cell_type": "code",
   "execution_count": 25,
   "metadata": {
    "collapsed": false,
    "deletable": true,
    "editable": true
   },
   "outputs": [
    {
     "data": {
      "text/plain": [
       "126999.88789554522"
      ]
     },
     "execution_count": 25,
     "metadata": {},
     "output_type": "execute_result"
    }
   ],
   "source": [
    "incomes = np.append(incomes, [1000000000])\n",
    "np.mean(incomes)"
   ]
  },
  {
   "cell_type": "markdown",
   "metadata": {
    "deletable": true,
    "editable": true
   },
   "source": [
    "কিন্তু এক্ষেত্রেও median সাহায্য করে সঠিক গড় ভিউ পেতে, "
   ]
  },
  {
   "cell_type": "code",
   "execution_count": 26,
   "metadata": {
    "collapsed": false,
    "deletable": true,
    "editable": true
   },
   "outputs": [
    {
     "data": {
      "text/plain": [
       "26977.609357910656"
      ]
     },
     "execution_count": 26,
     "metadata": {},
     "output_type": "execute_result"
    }
   ],
   "source": [
    "np.median(incomes)"
   ]
  },
  {
   "cell_type": "markdown",
   "metadata": {
    "deletable": true,
    "editable": true
   },
   "source": [
    "আর হ্যাঁ, স্ট্যান্ডার্ড ডেভিয়েশন জানা থাকলে কিন্তু আমরা সহজেই এরকম আউটলায়ার গুলোকে চিহ্নিত করে বাতিল করে দিতে পারি। কারন আমরা জানি সেন্টার ভ্যালু থেকে ২/৩ একক স্ট্যান্ডার্ড ডেভিয়েশনেরও বাইরে পরবে এরকম আউটলারায় গুলো। তাই এগুলোকে আনইউজুয়াল হিসেবে চিহ্নিত করা যায়। z-score এর কথা নিশ্চয়ই মনে আছে এতক্ষণেও।"
   ]
  },
  {
   "cell_type": "markdown",
   "metadata": {
    "deletable": true,
    "editable": true
   },
   "source": [
    "# পপুলেশন ও স্যাম্পল   \n",
    "এ দুটো যথাক্রমে Census এবং Sample এর প্রতিশব্দ। এখানে আবার এই প্রসঙ্গ আনার কারন হচ্ছে, যখন Sample নিয়ে কাজ করতে হবে তখন Sample Variance জানতে হবে যা কিনা Population নিয়ে কাজ করার সময়কার সাধারণ Variance থেকে ভিন্ন।  \n",
    "\n",
    "N সংখ্যক স্যাম্পল নিয়ে কাজ করার সময় Sample Variance বের করার সূত্রে ভগ্নাংশের নিচে মোট এলিমেন্ট (গোটা পপুলেশন) সংখ্যা না হয়ে N-1 হবে। আর স্বভাবতই Sample Standard Deviation হবে ওই Sample Variance এর Square Root.\n",
    "\n",
    "\\begin{equation*}\n",
    "Population \\, Variance, \\, \\sigma ^ 2 = \\frac{\\sum (x-\\mu) ^ 2}{N}\n",
    "\\end{equation*}   \n",
    "\n",
    "\\begin{equation*}\n",
    "Sample \\, Variance, \\, S ^ 2 = \\frac{\\sum (x-M) ^ 2}{N-1}\n",
    "\\end{equation*}   \n",
    "\n",
    "দু ক্ষেত্রেই $Standard \\, Deviation$ যথাক্রমে $\\sigma$ এবং $S$"
   ]
  },
  {
   "cell_type": "markdown",
   "metadata": {
    "deletable": true,
    "editable": true
   },
   "source": [
    "**এ অবস্থায় আরেকটি উদাহরণ দেখে নেই,**"
   ]
  },
  {
   "cell_type": "code",
   "execution_count": 27,
   "metadata": {
    "collapsed": false,
    "deletable": true,
    "editable": true
   },
   "outputs": [
    {
     "data": {
      "image/png": "[encoded data removed]",
      "text/plain": [
       "<matplotlib.figure.Figure at 0x1085b2898>"
      ]
     },
     "metadata": {},
     "output_type": "display_data"
    }
   ],
   "source": [
    "incomes = np.random.normal(100.0, 50.0, 10000) # সেন্টার ভ্যালু 100, স্ট্যান্ডার্ড ডেভিয়েশন 20, ডাটা পয়েন্ট 10000 টি\n",
    "\n",
    "plt.hist(incomes, 50)\n",
    "plt.show()"
   ]
  },
  {
   "cell_type": "code",
   "execution_count": 28,
   "metadata": {
    "collapsed": false,
    "deletable": true,
    "editable": true
   },
   "outputs": [
    {
     "data": {
      "text/plain": [
       "2483.8524780006833"
      ]
     },
     "execution_count": 28,
     "metadata": {},
     "output_type": "execute_result"
    }
   ],
   "source": [
    "incomes.var() # Variance"
   ]
  },
  {
   "cell_type": "code",
   "execution_count": 29,
   "metadata": {
    "collapsed": false,
    "deletable": true,
    "editable": true
   },
   "outputs": [
    {
     "data": {
      "text/plain": [
       "49.838263192056395"
      ]
     },
     "execution_count": 29,
     "metadata": {},
     "output_type": "execute_result"
    }
   ],
   "source": [
    "incomes.std() # Standard Deviation"
   ]
  },
  {
   "cell_type": "markdown",
   "metadata": {
    "deletable": true,
    "editable": true
   },
   "source": [
    "# Probability বা সম্ভাব্যতা   \n",
    "To Do"
   ]
  },
  {
   "cell_type": "markdown",
   "metadata": {
    "deletable": true,
    "editable": true
   },
   "source": [
    "# Percentile ও Moment\n",
    "To Do"
   ]
  },
  {
   "cell_type": "markdown",
   "metadata": {
    "deletable": true,
    "editable": true
   },
   "source": [
    "# Covariance ও Correlation\n",
    "To Do"
   ]
  },
  {
   "cell_type": "markdown",
   "metadata": {
    "deletable": true,
    "editable": true
   },
   "source": [
    "# Conditional Probability\n",
    "To Do"
   ]
  },
  {
   "cell_type": "markdown",
   "metadata": {
    "deletable": true,
    "editable": true
   },
   "source": [
    "# Bayes' থিওরেম\n",
    "To Do"
   ]
  },
  {
   "cell_type": "markdown",
   "metadata": {},
   "source": [
    "> যাই হোক [আমি কে?](https://nuhil.net) "
   ]
  }
 ],
 "metadata": {
  "kernelspec": {
   "display_name": "Python 3",
   "language": "python",
   "name": "python3"
  },
  "language_info": {
   "codemirror_mode": {
    "name": "ipython",
    "version": 3
   },
   "file_extension": ".py",
   "mimetype": "text/x-python",
   "name": "python",
   "nbconvert_exporter": "python",
   "pygments_lexer": "ipython3",
   "version": "3.6.0"
  }
 },
 "nbformat": 4,
 "nbformat_minor": 2
}
